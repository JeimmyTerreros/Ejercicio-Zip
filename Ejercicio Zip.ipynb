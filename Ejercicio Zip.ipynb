{
 "cells": [
  {
   "cell_type": "code",
   "execution_count": 1,
   "metadata": {},
   "outputs": [],
   "source": [
    "import os\n",
    "from zipfile import ZipFile"
   ]
  },
  {
   "cell_type": "code",
   "execution_count": 2,
   "metadata": {},
   "outputs": [],
   "source": [
    "documento = \"C:/Users/yayat/OneDrive/Documentos/Jeimmy/Universidad/NPL/Talle 2/python_books.zip\""
   ]
  },
  {
   "cell_type": "code",
   "execution_count": 5,
   "metadata": {},
   "outputs": [],
   "source": [
    "with ZipFile(documento) as archivo:\n",
    "    archivo.extractall(\"C:/Users/yayat/OneDrive/Documentos/Jeimmy/Universidad/NPL/Talle 2/archivos\")"
   ]
  },
  {
   "cell_type": "code",
   "execution_count": 6,
   "metadata": {},
   "outputs": [],
   "source": [
    "import shutil\n",
    "shutil.rmtree('C:/Users/yayat/OneDrive/Documentos/Jeimmy/Universidad/NPL/Talle 2/archivos/__MACOSX')"
   ]
  },
  {
   "cell_type": "code",
   "execution_count": 7,
   "metadata": {},
   "outputs": [
    {
     "name": "stdout",
     "output_type": "stream",
     "text": [
      "('C:/Users/yayat/OneDrive/Documentos/Jeimmy/Universidad/NPL/Talle 2/archivos/python_books', [], ['Python  Data Science Cookbook.pdf', 'Python - AWS.pdf', 'Python - Finance.pdf'])\n"
     ]
    }
   ],
   "source": [
    "for archivo in os.walk(\"C:/Users/yayat/OneDrive/Documentos/Jeimmy/Universidad/NPL/Talle 2/archivos/python_books\"):\n",
    "    print(archivo)"
   ]
  },
  {
   "cell_type": "code",
   "execution_count": 8,
   "metadata": {},
   "outputs": [
    {
     "name": "stdout",
     "output_type": "stream",
     "text": [
      "Python  Data Science Cookbook.pdf\n",
      "Python - AWS.pdf\n",
      "Python - Finance.pdf\n"
     ]
    }
   ],
   "source": [
    "for raiz, dirs, archivos in os.walk(\"C:/Users/yayat/OneDrive/Documentos/Jeimmy/Universidad/NPL/Talle 2/archivos/python_books\"):\n",
    "    # print(raiz, dirs, archivos)\n",
    "    for a in archivos: \n",
    "        print(a)"
   ]
  },
  {
   "cell_type": "code",
   "execution_count": 18,
   "metadata": {},
   "outputs": [],
   "source": [
    "import fitz"
   ]
  },
  {
   "cell_type": "code",
   "execution_count": 22,
   "metadata": {},
   "outputs": [],
   "source": [
    "texto = fitz.open('C:/Users/yayat/OneDrive/Documentos/Jeimmy/Universidad/NPL/Talle 2/archivos/python_books/Python  Data Science Cookbook.pdf')\n"
   ]
  },
  {
   "cell_type": "code",
   "execution_count": 33,
   "metadata": {},
   "outputs": [
    {
     "name": "stdout",
     "output_type": "stream",
     "text": [
      "Número de páginas:  1\n"
     ]
    }
   ],
   "source": [
    "print(\"Número de páginas: \", texto.pageCount)"
   ]
  },
  {
   "cell_type": "code",
   "execution_count": 26,
   "metadata": {},
   "outputs": [
    {
     "name": "stdout",
     "output_type": "stream",
     "text": [
      "Número de páginas: 1\n"
     ]
    }
   ],
   "source": [
    "texto1 = fitz.open(\"C:/Users/yayat/OneDrive/Documentos/Jeimmy/Universidad/NPL/Talle 2/archivos/python_books/Python - AWS.pdf\")\n",
    "print(\"Número de páginas:\",texto1.pageCount)"
   ]
  },
  {
   "cell_type": "code",
   "execution_count": 34,
   "metadata": {},
   "outputs": [
    {
     "name": "stdout",
     "output_type": "stream",
     "text": [
      "Número de páginas: 1\n"
     ]
    }
   ],
   "source": [
    "texto2 = fitz.open(\"C:/Users/yayat/OneDrive/Documentos/Jeimmy/Universidad/NPL/Talle 2/archivos/python_books/Python - Finance.pdf\")\n",
    "print(\"Número de páginas:\",texto1.pageCount)"
   ]
  },
  {
   "cell_type": "code",
   "execution_count": null,
   "metadata": {},
   "outputs": [],
   "source": []
  }
 ],
 "metadata": {
  "kernelspec": {
   "display_name": "Python 3",
   "language": "python",
   "name": "python3"
  },
  "language_info": {
   "codemirror_mode": {
    "name": "ipython",
    "version": 3
   },
   "file_extension": ".py",
   "mimetype": "text/x-python",
   "name": "python",
   "nbconvert_exporter": "python",
   "pygments_lexer": "ipython3",
   "version": "3.8.3"
  }
 },
 "nbformat": 4,
 "nbformat_minor": 4
}
